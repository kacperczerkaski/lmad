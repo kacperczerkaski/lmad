{
  "nbformat": 4,
  "nbformat_minor": 0,
  "metadata": {
    "colab": {
      "provenance": []
    },
    "kernelspec": {
      "name": "python3",
      "display_name": "Python 3"
    },
    "language_info": {
      "name": "python"
    }
  },
  "cells": [
    {
      "cell_type": "code",
      "execution_count": null,
      "metadata": {
        "id": "yWyS8hGaru5Y"
      },
      "outputs": [],
      "source": [
        "from sklearn import preprocessing\n",
        "import numpy as np\n",
        "import matplotlib.pyplot as plt\n"
      ]
    },
    {
      "cell_type": "code",
      "source": [
        "# Data\n",
        "X = np.array([[ 1.4, 130.],\n",
        "[ 2.1,  250.],\n",
        "[ 4.5,  200.]])"
      ],
      "metadata": {
        "id": "_wTJoVlxzVdY"
      },
      "execution_count": null,
      "outputs": []
    },
    {
      "cell_type": "code",
      "source": [
        "# Normalizacja Min-max ze wzoru\n",
        "X_manual_scaled = (X - X.min(axis=0)) / (X.max(axis=0) - X.min(axis=0))\n",
        "print(X_manual_scaled)"
      ],
      "metadata": {
        "colab": {
          "base_uri": "https://localhost:8080/"
        },
        "id": "335w_NfHuwGi",
        "outputId": "c4e03bf7-2419-4c6a-d86d-e09dcd247abc"
      },
      "execution_count": null,
      "outputs": [
        {
          "output_type": "stream",
          "name": "stdout",
          "text": [
            "[[0.         0.        ]\n",
            " [0.22580645 1.        ]\n",
            " [1.         0.58333333]]\n"
          ]
        }
      ]
    },
    {
      "cell_type": "code",
      "source": [
        "# Normalizacja Min-max\n",
        "min_max_scaler = preprocessing.MinMaxScaler()\n",
        "X_minmax = min_max_scaler.fit_transform(X)\n",
        "print(X_minmax)"
      ],
      "metadata": {
        "colab": {
          "base_uri": "https://localhost:8080/"
        },
        "id": "4h-aMrnar0NX",
        "outputId": "565e664f-c3e3-41fb-dc48-915b270f01b3"
      },
      "execution_count": null,
      "outputs": [
        {
          "output_type": "stream",
          "name": "stdout",
          "text": [
            "[[0.         0.        ]\n",
            " [0.22580645 1.        ]\n",
            " [1.         0.58333333]]\n"
          ]
        }
      ]
    },
    {
      "cell_type": "code",
      "source": [
        "fig, axes = plt.subplots(1,2)\n",
        "plt.xlim(0, 100)\n",
        "axes[0].scatter(X_minmax[:,0], X_minmax[:,1])\n",
        "axes[0].set_title(\"Dane normalizowane MinMax\")\n",
        "axes[1].scatter(X[:,0], X[:,1])\n",
        "axes[1].set_title(\"Dane oryginalne\")\n",
        "plt.show()"
      ],
      "metadata": {
        "colab": {
          "base_uri": "https://localhost:8080/",
          "height": 281
        },
        "id": "27UJb-Yiw43G",
        "outputId": "b5813076-3585-4f20-b788-f111a865be1e"
      },
      "execution_count": null,
      "outputs": [
        {
          "output_type": "display_data",
          "data": {
            "text/plain": [
              "<Figure size 432x288 with 2 Axes>"
            ],
            "image/png": "[encoded data removed]"
          },
          "metadata": {
            "needs_background": "light"
          }
        }
      ]
    },
    {
      "cell_type": "code",
      "source": [
        "# Standaryzacja\n",
        "standarization = preprocessing.scale(X)\n",
        "print(standarization)"
      ],
      "metadata": {
        "colab": {
          "base_uri": "https://localhost:8080/"
        },
        "id": "OHTW5geoxw-z",
        "outputId": "b66c7625-e6c1-444d-d9e4-dbab6ad6e359"
      },
      "execution_count": null,
      "outputs": [
        {
          "output_type": "stream",
          "name": "stdout",
          "text": [
            "[[-0.95418373 -1.28684238]\n",
            " [-0.42687167  1.15138528]\n",
            " [ 1.38105539  0.13545709]]\n"
          ]
        }
      ]
    },
    {
      "cell_type": "code",
      "source": [
        "fig, axes = plt.subplots(1,2)\n",
        "plt.xlim(0, 100)\n",
        "axes[0].scatter(standarization[:,0], standarization[:,1])\n",
        "axes[0].set_title(\"Dane standaryzowane\")\n",
        "axes[1].scatter(X[:,0], X[:,1])\n",
        "axes[1].set_title(\"Dane oryginalne\")\n",
        "plt.show()"
      ],
      "metadata": {
        "colab": {
          "base_uri": "https://localhost:8080/",
          "height": 281
        },
        "id": "DFYyr9OiyoDX",
        "outputId": "7872bec8-5526-47a4-b4d7-4f179a087b0d"
      },
      "execution_count": null,
      "outputs": [
        {
          "output_type": "display_data",
          "data": {
            "text/plain": [
              "<Figure size 432x288 with 2 Axes>"
            ],
            "image/png": "[encoded data removed]"
          },
          "metadata": {
            "needs_background": "light"
          }
        }
      ]
    }
  ]
}